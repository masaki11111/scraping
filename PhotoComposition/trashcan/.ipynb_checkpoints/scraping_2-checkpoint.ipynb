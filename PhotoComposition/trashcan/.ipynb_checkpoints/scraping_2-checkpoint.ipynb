{
 "cells": [
  {
   "cell_type": "code",
   "execution_count": null,
   "metadata": {},
   "outputs": [],
   "source": [
    "from selenium import webdriver\n",
    "import time\n",
    "import requests\n",
    "import hashlib\n",
    "from os import listdir\n",
    "from os.path import join"
   ]
  },
  {
   "cell_type": "code",
   "execution_count": null,
   "metadata": {},
   "outputs": [],
   "source": [
    "#tzuyuをグーグルで検索\n",
    "driver = webdriver.Chrome(executable_path=r\"C:\\Users\\care-lab\\chromedriver.exe\")\n",
    "query = 'tzuyu'\n",
    "driver.get('https://www.google.co.jp/search?q=%s&tbm=isch' % query)\n",
    "#image_urlsに画像のURLを格納（今回は10以上でストップ）\n",
    "image_urls = set()\n",
    "for thumbnail in driver.find_elements_by_css_selector('img.rg_ic'):\n",
    "    thumbnail.click()\n",
    "    time.sleep(1)\n",
    "    for img in driver.find_elements_by_css_selector('img.irc_mi'):\n",
    "        image_urls.add(img.get_attribute('src'))\n",
    "        if len(image_urls)>10:\n",
    "            break\n",
    "image_urls\n",
    "\n"
   ]
  },
  {
   "cell_type": "markdown",
   "metadata": {},
   "source": [
    "### clickが使えないときは以下でもOK\n",
    "action = webdriver.common.action_chains.ActionChains(driver)  \n",
    "action.move_to_element(thumbnail)  \n",
    "action.click()  \n",
    "action.perform()  "
   ]
  },
  {
   "cell_type": "code",
   "execution_count": null,
   "metadata": {},
   "outputs": [],
   "source": [
    "#例外処理と画像の保存\n",
    "index = 0\n",
    "failed = []\n",
    "for image_url in image_urls:\n",
    "    if image_url == None:\n",
    "        continue\n",
    "    try:\n",
    "        response = requests.get(image_url, stream=True)\n",
    "        if response.status_code == 200:\n",
    "            contenttype = response.headers['content-type']\n",
    "            if contenttype == None:\n",
    "                extension = '.bin'\n",
    "            if contenttype.find('jpeg') != -1:\n",
    "                extension = '.jpg'\n",
    "            elif contenttype.find('png') != -1:\n",
    "                extension = '.png'\n",
    "            elif contenttype.find('gif') != -1:\n",
    "                extension = '.gif'\n",
    "            else:\n",
    "                extension = '.bin'\n",
    "            filename = 'images/%04d%s' % (index, extension)\n",
    "            index += 1\n",
    "            with open(filename, 'wb') as file:\n",
    "                for chunk in response.iter_content(chunk_size=1024):\n",
    "                    file.write(chunk)\n",
    "            print('Downloaded: %s' % image_url)\n",
    "    except:\n",
    "        print('Failed: %s' % image_url)\n",
    "        failed.append(image_url)\n",
    "\n"
   ]
  },
  {
   "cell_type": "code",
   "execution_count": null,
   "metadata": {},
   "outputs": [],
   "source": [
    "#画像のURLが重複していた場合は削除\n",
    "def md5(fname):\n",
    "    hash_md5 = hashlib.md5()\n",
    "    with open(fname, \"rb\") as f:\n",
    "        for chunk in iter(lambda: f.read(4096), b\"\"):\n",
    "            hash_md5.update(chunk)\n",
    "    return hash_md5.hexdigest()\n",
    "\n",
    "hashes = set()\n",
    "\n",
    "for file in listdir('./images'):\n",
    "    file = join('images', file)\n",
    "    h = md5(file)\n",
    "    if h in hashes:\n",
    "        print('Duplicated image: %s' % file)\n",
    "        continue\n",
    "    hashes.add(h)"
   ]
  }
 ],
 "metadata": {
  "kernelspec": {
   "display_name": "Python 3",
   "language": "python",
   "name": "python3"
  },
  "language_info": {
   "codemirror_mode": {
    "name": "ipython",
    "version": 3
   },
   "file_extension": ".py",
   "mimetype": "text/x-python",
   "name": "python",
   "nbconvert_exporter": "python",
   "pygments_lexer": "ipython3",
   "version": "3.6.5"
  }
 },
 "nbformat": 4,
 "nbformat_minor": 2
}
