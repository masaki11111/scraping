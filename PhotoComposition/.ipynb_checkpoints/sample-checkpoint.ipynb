{
 "cells": [
  {
   "cell_type": "code",
   "execution_count": 52,
   "metadata": {},
   "outputs": [],
   "source": [
    "import sys\n",
    "import codecs\n",
    "sys.stdout = codecs.getwriter('utf_8')(sys.stdout)\n",
    "from selenium import webdriver\n",
    "from selenium.common.exceptions import WebDriverException\n",
    "#ActionChainsクラスは通常のクリック処理や値の設定以外にもShiftを押しながら入力という処理やF1やF3など特殊なキー操作を行うことができる\n",
    "from selenium.webdriver.common.action_chains import ActionChains\n",
    "import time\n",
    "import random\n",
    "import io\n",
    "from urllib import request\n",
    "from PIL import Image"
   ]
  },
  {
   "cell_type": "code",
   "execution_count": 53,
   "metadata": {},
   "outputs": [],
   "source": [
    "driver = webdriver.Chrome(executable_path=r\"C:\\Users\\care-lab\\chromedriver.exe\")\n",
    "first_url = ('https://www.google.co.jp/imghp?hl=ja')\n",
    "driver.get(first_url)\n",
    "first_url\n",
    "# 検索ボックスに入力する\n",
    "searchbox = driver.find_element_by_name('q')\n",
    "searchbox.send_keys('tzuyu fullbody')\n",
    "elem_login_btn = driver.find_element_by_class_name('rINcab')\n",
    "elem_login_btn.click()\n",
    "searchbox\n",
    "# 検索ボタンを押す\n",
    "elem_configuration = driver.find_element_by_id('hdtb-tls')\n",
    "elem_configuration.click()\n",
    "\n"
   ]
  },
  {
   "cell_type": "code",
   "execution_count": 54,
   "metadata": {},
   "outputs": [
    {
     "data": {
      "text/plain": [
       "''"
      ]
     },
     "execution_count": 54,
     "metadata": {},
     "output_type": "execute_result"
    }
   ],
   "source": [
    "#image_urls = set()\n",
    "\"\"\"\n",
    "for thumbnail in driver.find_elements_by_class_name('rg_ic'):\n",
    "    thumbnail.click()\n",
    "    time.sleep(1)\n",
    "    i=0\n",
    "    i+=1\n",
    "    print(str(i))\n",
    "\"\"\"\n",
    "time.sleep(1)\n",
    "thumbnail= driver.find_element_by_class_name('rg_ic')\n",
    "time.sleep(2)\n",
    "thumbnail.text\n",
    "#thumbnail.click()\n"
   ]
  },
  {
   "cell_type": "code",
   "execution_count": 63,
   "metadata": {},
   "outputs": [
    {
     "data": {
      "text/plain": [
       "selenium.webdriver.remote.webelement.WebElement"
      ]
     },
     "execution_count": 63,
     "metadata": {},
     "output_type": "execute_result"
    }
   ],
   "source": [
    "thumbnail= driver.find_element_by_class_name(\"rg_ilmbg \")\n",
    "time.sleep(2)\n",
    "type(thumbnail)"
   ]
  },
  {
   "cell_type": "code",
   "execution_count": null,
   "metadata": {},
   "outputs": [],
   "source": [
    "    \n",
    "\"\"\"\n",
    "    img= driver.find_elements_by_css_selector('img.irc_mi')\n",
    "    image_urls.add(img.get_attribute('src'))\n",
    "    print(image_urls)\n",
    "    \n",
    "    for img in driver.find_elements_by_css_selector('img.irc_mi'):\n",
    "        image_urls.add(img.get_attribute('src'))\n",
    "    \"\"\""
   ]
  }
 ],
 "metadata": {
  "kernelspec": {
   "display_name": "Python 3",
   "language": "python",
   "name": "python3"
  },
  "language_info": {
   "codemirror_mode": {
    "name": "ipython",
    "version": 3
   },
   "file_extension": ".py",
   "mimetype": "text/x-python",
   "name": "python",
   "nbconvert_exporter": "python",
   "pygments_lexer": "ipython3",
   "version": "3.6.5"
  }
 },
 "nbformat": 4,
 "nbformat_minor": 2
}
