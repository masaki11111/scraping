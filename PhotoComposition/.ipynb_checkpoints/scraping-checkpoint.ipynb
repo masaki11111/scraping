{
 "cells": [
  {
   "cell_type": "code",
   "execution_count": 21,
   "metadata": {},
   "outputs": [],
   "source": [
    "from selenium import webdriver\n",
    "import time\n",
    "import requests\n",
    "import hashlib\n",
    "from os import listdir\n",
    "from os.path import join"
   ]
  },
  {
   "cell_type": "code",
   "execution_count": 22,
   "metadata": {},
   "outputs": [
    {
     "data": {
      "text/plain": [
       "{None,\n",
       " 'http://i0.wp.com/www.icrt.com.tw/wordpress/wp-content/uploads/2017/12/Chou-Tzuyu-most-beautiful-faces-2017-tc-candler.jpg?resize=1360%2C768&ssl=1',\n",
       " 'http://pm1.narvii.com/7284/4869f6f35f7a0a9b95cac36e03339667ab1b0022r1-639-799v2_uhq.jpg',\n",
       " 'http://res.heraldm.com/phpwas/restmb_jhidxmake.php?idx=5&simg=201810161609392433194_20181016160952_01.jpg',\n",
       " 'http://www.asiaone.com/sites/default/files/original_images/Dec2015/20151230-YOUTUBE-TZUYU.gif',\n",
       " 'https://auctions.c.yimg.jp/images.auctions.yahoo.co.jp/image/dr000/auc0505/users/3/6/9/1/powerpuffoto-img750x886-1558277363v9qdvk16122.jpg',\n",
       " 'https://auctions.c.yimg.jp/images.auctions.yahoo.co.jp/image/dr000/auc0506/users/811d5643a3a24882d503a67b7db16029c3838ae9/i-img1200x1200-1561597138bimbbq475867.jpg',\n",
       " 'https://auctions.c.yimg.jp/images.auctions.yahoo.co.jp/image/dr000/auc0508/users/08d18f3a19ef59834a839967b99128993b944ccd/i-img865x1200-1566531587ptsvcu73178.jpg',\n",
       " 'https://cdn.i-scmp.com/sites/default/files/styles/1200x800/public/d8/images/methode/2019/06/17/d7dffafc-883c-11e9-a9bc-e8ed9093c066_image_hires_122109.jpg?itok=hDNkjT9Q&v=1560745274',\n",
       " 'https://cdn141.picsart.com/261758145025212.png?r1024x1024',\n",
       " 'https://d1o7cxaf8di5ts.cloudfront.net/file/brand/183/1522221753146_688.PNG',\n",
       " 'https://i.pinimg.com/originals/75/a6/11/75a611554006165234e858686a555dae.jpg',\n",
       " 'https://i.pinimg.com/originals/b9/54/40/b95440646a12e307940b41765e27ebbe.jpg',\n",
       " 'https://i.pinimg.com/originals/c3/39/af/c339afa130930daf3dbdda053343ae14.jpg',\n",
       " 'https://i.pinimg.com/originals/d5/9a/db/d59adb9e14f610102bc15c088c785390.jpg',\n",
       " 'https://i.pinimg.com/originals/d7/cd/33/d7cd337193f3a37ad23bb866a937bdb8.jpg',\n",
       " 'https://i.redd.it/eqk5xybnfe721.jpg',\n",
       " 'https://i0.wp.com/buzzb2.com/wp-content/uploads/2018/12/tzuyu.png?ssl=1',\n",
       " 'https://ic4-a.wowma.net/mi/gr/114/imgu-a.wowma.net/exu6/cb/15/11246703/13/mb/278337805_1.jpg',\n",
       " 'https://ih0.redbubble.net/image.494180690.1498/flat,1000x1000,075,f.u1.jpg',\n",
       " 'https://images-na.ssl-images-amazon.com/images/I/71HL5qTgMJL._SY606_.jpg',\n",
       " 'https://img.discogs.com/mWvVyNrjYlmt36b6ruNpqeAEysI=/fit-in/300x300/filters:strip_icc():format(jpeg):mode_rgb():quality(40)/discogs-images/A-4932160-1457566996-5852.jpeg.jpg',\n",
       " 'https://img.kpopmap.com/2019/01/maxresdefault6.jpg',\n",
       " 'https://kenh14cdn.com/2019/6/15/h1-1560613779086890788398.jpg',\n",
       " 'https://lookaside.fbsbx.com/lookaside/crawler/media/?media_id=127620251300433',\n",
       " 'https://lookaside.fbsbx.com/lookaside/crawler/media/?media_id=1952370191489623',\n",
       " 'https://lookaside.fbsbx.com/lookaside/crawler/media/?media_id=658520467629701',\n",
       " 'https://obs.line-scdn.net/0hBoQJ_hYKHUBsMzf4LE1iFyFuGy8VUAdIBksKehllF24ZXwpABEkaZBsySnBEHxxGIAMQdjBHRDIpVAplG1A2cDA2JAwfcxFALi9UZwlIX3BFB1MWUlxSIkszSyJJBV0WVRBTdklgRXVBCw/small',\n",
       " 'https://obs.line-scdn.net/0hIMvG4xdrFmJLPjv316VpNQZjEA0yXQxqIUYBWD5oHEw-UgFiI0QRRjw_QVJjEhY9ISBbfmpLCzEObDFqFwUgDB5iASAfcAFGLQMPe29WVFJiC1IzdFpeDG0-QAAyClA1dx1YDG1qG1s1XA/small',\n",
       " 'https://obs.line-scdn.net/0ha48oNmQmPhsFFhVCNeNBTEhLOHR8dSQTb24pIXBANDVweikbbWw5P3IXaSstOgtNOSgNelofZX8gXXo7OhQEISNSZ0hrXhgdUQYPCEVqfCssIXxPPnFwdSkWaH4pJn9KPjVwLSZGZy4gJQ/small',\n",
       " 'https://pbs.twimg.com/media/ED4XHjjUcAASuIx.jpg',\n",
       " 'https://pbs.twimg.com/profile_images/1060094643092647936/gFjIz7jU_400x400.jpg',\n",
       " 'https://pds.joins.com/news/component/htmlphoto_mmdata/201812/31/cf4e625a-c909-4c8f-8a81-787adc48e4b6.jpg',\n",
       " 'https://qph.fs.quoracdn.net/main-qimg-e24f52a6394c5a91ec340f88fcf400e1',\n",
       " 'https://rr.img.naver.jp/mig?src=http%3A%2F%2Fimgcc.naver.jp%2Fkaze%2Fmission%2FUSER%2F20181017%2F17%2F10164607%2F2%2F564x564xbc1684d1cde8e01ff8d9fc84.jpg%2F300%2F600&twidth=300&theight=600&qlt=80&res_format=jpg&op=r',\n",
       " 'https://scontent-gig2-1.cdninstagram.com/vp/a93d1943e48b2bd5e271a3ea38890f80/5DF67220/t51.2885-19/45320766_344136622802643_6170404919447650304_n.jpg?_nc_ht=scontent-gig2-1.cdninstagram.com&dl=1',\n",
       " 'https://simkung.net/wp-content/uploads/2018/01/twice-tzuyu-720x479.jpg',\n",
       " 'https://static.mercdn.net/item/detail/orig/photos/m68655241760_1.jpg?1527657765',\n",
       " 'https://upload.wikimedia.org/wikipedia/commons/thumb/0/06/180717_%EC%97%B4%EB%A6%B0%EC%9D%8C%EC%95%85%ED%9A%8C_%ED%8A%B8%EC%99%80%EC%9D%B4%EC%8A%A4_%2818%29.jpg/220px-180717_%EC%97%B4%EB%A6%B0%EC%9D%8C%EC%95%85%ED%9A%8C_%ED%8A%B8%EC%99%80%EC%9D%B4%EC%8A%A4_%2818%29.jpg',\n",
       " 'https://www.allkpop.com/upload/2019/07/content/152041/d-hv97eu8aapovkjpg.jpg',\n",
       " 'https://www.barraques.cat/pngfile/big/31-313389_k-pop-twice-tzuyu-wallpaper-tzuyu-twice.jpg'}"
      ]
     },
     "execution_count": 22,
     "metadata": {},
     "output_type": "execute_result"
    }
   ],
   "source": [
    "#tzuyuをグーグルで検索\n",
    "driver = webdriver.Chrome(executable_path=r\"C:\\Users\\care-lab\\chromedriver.exe\")\n",
    "query = 'tzuyu'\n",
    "driver.get('https://www.google.co.jp/search?q=%s&tbm=isch' % query)\n",
    "#image_urlsに画像のURLを格納（今回は10以上でストップ）\n",
    "image_urls = set()\n",
    "for thumbnail in driver.find_elements_by_css_selector('img.rg_ic'):\n",
    "    thumbnail.click()\n",
    "    time.sleep(1)\n",
    "    for img in driver.find_elements_by_css_selector('img.irc_mi'):\n",
    "        image_urls.add(img.get_attribute('src'))\n",
    "        if len(image_urls)>10:\n",
    "            break\n",
    "image_urls\n",
    "\n"
   ]
  },
  {
   "cell_type": "markdown",
   "metadata": {},
   "source": [
    "### clickが使えないときは以下でもOK\n",
    "action = webdriver.common.action_chains.ActionChains(driver)  \n",
    "action.move_to_element(thumbnail)  \n",
    "action.click()  \n",
    "action.perform()  "
   ]
  },
  {
   "cell_type": "code",
   "execution_count": 23,
   "metadata": {},
   "outputs": [
    {
     "name": "stdout",
     "output_type": "stream",
     "text": [
      "Downloaded: https://i.pinimg.com/originals/d5/9a/db/d59adb9e14f610102bc15c088c785390.jpg\n",
      "Downloaded: https://images-na.ssl-images-amazon.com/images/I/71HL5qTgMJL._SY606_.jpg\n",
      "Downloaded: https://pbs.twimg.com/profile_images/1060094643092647936/gFjIz7jU_400x400.jpg\n",
      "Downloaded: http://res.heraldm.com/phpwas/restmb_jhidxmake.php?idx=5&simg=201810161609392433194_20181016160952_01.jpg\n",
      "Downloaded: https://i.redd.it/eqk5xybnfe721.jpg\n",
      "Downloaded: https://obs.line-scdn.net/0hBoQJ_hYKHUBsMzf4LE1iFyFuGy8VUAdIBksKehllF24ZXwpABEkaZBsySnBEHxxGIAMQdjBHRDIpVAplG1A2cDA2JAwfcxFALi9UZwlIX3BFB1MWUlxSIkszSyJJBV0WVRBTdklgRXVBCw/small\n",
      "Downloaded: https://qph.fs.quoracdn.net/main-qimg-e24f52a6394c5a91ec340f88fcf400e1\n",
      "Downloaded: https://i.pinimg.com/originals/d7/cd/33/d7cd337193f3a37ad23bb866a937bdb8.jpg\n",
      "Downloaded: https://scontent-gig2-1.cdninstagram.com/vp/a93d1943e48b2bd5e271a3ea38890f80/5DF67220/t51.2885-19/45320766_344136622802643_6170404919447650304_n.jpg?_nc_ht=scontent-gig2-1.cdninstagram.com&dl=1\n",
      "Downloaded: https://pds.joins.com/news/component/htmlphoto_mmdata/201812/31/cf4e625a-c909-4c8f-8a81-787adc48e4b6.jpg\n",
      "Downloaded: https://lookaside.fbsbx.com/lookaside/crawler/media/?media_id=658520467629701\n",
      "Downloaded: http://i0.wp.com/www.icrt.com.tw/wordpress/wp-content/uploads/2017/12/Chou-Tzuyu-most-beautiful-faces-2017-tc-candler.jpg?resize=1360%2C768&ssl=1\n",
      "Downloaded: http://pm1.narvii.com/7284/4869f6f35f7a0a9b95cac36e03339667ab1b0022r1-639-799v2_uhq.jpg\n",
      "Downloaded: https://auctions.c.yimg.jp/images.auctions.yahoo.co.jp/image/dr000/auc0505/users/3/6/9/1/powerpuffoto-img750x886-1558277363v9qdvk16122.jpg\n",
      "Downloaded: https://i0.wp.com/buzzb2.com/wp-content/uploads/2018/12/tzuyu.png?ssl=1\n",
      "Downloaded: https://www.barraques.cat/pngfile/big/31-313389_k-pop-twice-tzuyu-wallpaper-tzuyu-twice.jpg\n",
      "Downloaded: https://obs.line-scdn.net/0hIMvG4xdrFmJLPjv316VpNQZjEA0yXQxqIUYBWD5oHEw-UgFiI0QRRjw_QVJjEhY9ISBbfmpLCzEObDFqFwUgDB5iASAfcAFGLQMPe29WVFJiC1IzdFpeDG0-QAAyClA1dx1YDG1qG1s1XA/small\n",
      "Downloaded: https://static.mercdn.net/item/detail/orig/photos/m68655241760_1.jpg?1527657765\n",
      "Downloaded: https://obs.line-scdn.net/0ha48oNmQmPhsFFhVCNeNBTEhLOHR8dSQTb24pIXBANDVweikbbWw5P3IXaSstOgtNOSgNelofZX8gXXo7OhQEISNSZ0hrXhgdUQYPCEVqfCssIXxPPnFwdSkWaH4pJn9KPjVwLSZGZy4gJQ/small\n",
      "Downloaded: https://d1o7cxaf8di5ts.cloudfront.net/file/brand/183/1522221753146_688.PNG\n",
      "Downloaded: https://ic4-a.wowma.net/mi/gr/114/imgu-a.wowma.net/exu6/cb/15/11246703/13/mb/278337805_1.jpg\n",
      "Downloaded: https://i.pinimg.com/originals/75/a6/11/75a611554006165234e858686a555dae.jpg\n",
      "Downloaded: https://lookaside.fbsbx.com/lookaside/crawler/media/?media_id=127620251300433\n",
      "Downloaded: https://auctions.c.yimg.jp/images.auctions.yahoo.co.jp/image/dr000/auc0508/users/08d18f3a19ef59834a839967b99128993b944ccd/i-img865x1200-1566531587ptsvcu73178.jpg\n",
      "Downloaded: https://auctions.c.yimg.jp/images.auctions.yahoo.co.jp/image/dr000/auc0506/users/811d5643a3a24882d503a67b7db16029c3838ae9/i-img1200x1200-1561597138bimbbq475867.jpg\n",
      "Downloaded: https://lookaside.fbsbx.com/lookaside/crawler/media/?media_id=1952370191489623\n",
      "Downloaded: https://i.pinimg.com/originals/c3/39/af/c339afa130930daf3dbdda053343ae14.jpg\n",
      "Downloaded: https://cdn141.picsart.com/261758145025212.png?r1024x1024\n",
      "Downloaded: https://cdn.i-scmp.com/sites/default/files/styles/1200x800/public/d8/images/methode/2019/06/17/d7dffafc-883c-11e9-a9bc-e8ed9093c066_image_hires_122109.jpg?itok=hDNkjT9Q&v=1560745274\n",
      "Downloaded: https://i.pinimg.com/originals/b9/54/40/b95440646a12e307940b41765e27ebbe.jpg\n",
      "Downloaded: https://ih0.redbubble.net/image.494180690.1498/flat,1000x1000,075,f.u1.jpg\n",
      "Downloaded: https://img.discogs.com/mWvVyNrjYlmt36b6ruNpqeAEysI=/fit-in/300x300/filters:strip_icc():format(jpeg):mode_rgb():quality(40)/discogs-images/A-4932160-1457566996-5852.jpeg.jpg\n",
      "Downloaded: http://www.asiaone.com/sites/default/files/original_images/Dec2015/20151230-YOUTUBE-TZUYU.gif\n",
      "Downloaded: https://rr.img.naver.jp/mig?src=http%3A%2F%2Fimgcc.naver.jp%2Fkaze%2Fmission%2FUSER%2F20181017%2F17%2F10164607%2F2%2F564x564xbc1684d1cde8e01ff8d9fc84.jpg%2F300%2F600&twidth=300&theight=600&qlt=80&res_format=jpg&op=r\n",
      "Downloaded: https://simkung.net/wp-content/uploads/2018/01/twice-tzuyu-720x479.jpg\n",
      "Downloaded: https://kenh14cdn.com/2019/6/15/h1-1560613779086890788398.jpg\n",
      "Downloaded: https://img.kpopmap.com/2019/01/maxresdefault6.jpg\n",
      "Downloaded: https://pbs.twimg.com/media/ED4XHjjUcAASuIx.jpg\n",
      "Downloaded: https://upload.wikimedia.org/wikipedia/commons/thumb/0/06/180717_%EC%97%B4%EB%A6%B0%EC%9D%8C%EC%95%85%ED%9A%8C_%ED%8A%B8%EC%99%80%EC%9D%B4%EC%8A%A4_%2818%29.jpg/220px-180717_%EC%97%B4%EB%A6%B0%EC%9D%8C%EC%95%85%ED%9A%8C_%ED%8A%B8%EC%99%80%EC%9D%B4%EC%8A%A4_%2818%29.jpg\n",
      "Duplicated image: images\\tzuyu_2.jpg\n",
      "Duplicated image: images\\tzuyu_5.png\n"
     ]
    }
   ],
   "source": [
    "#例外処理と画像の保存\n",
    "index = 0\n",
    "failed = []\n",
    "for image_url in image_urls:\n",
    "    if image_url == None:\n",
    "        continue\n",
    "    try:\n",
    "        response = requests.get(image_url, stream=True)\n",
    "        if response.status_code == 200:\n",
    "            contenttype = response.headers['content-type']\n",
    "            if contenttype == None:\n",
    "                extension = '.bin'\n",
    "            if contenttype.find('jpeg') != -1:\n",
    "                extension = '.jpg'\n",
    "            elif contenttype.find('png') != -1:\n",
    "                extension = '.png'\n",
    "            elif contenttype.find('gif') != -1:\n",
    "                extension = '.gif'\n",
    "            else:\n",
    "                extension = '.bin'\n",
    "            filename = 'images/%04d%s' % (index, extension)\n",
    "            index += 1\n",
    "            with open(filename, 'wb') as file:\n",
    "                for chunk in response.iter_content(chunk_size=1024):\n",
    "                    file.write(chunk)\n",
    "            print('Downloaded: %s' % image_url)\n",
    "    except:\n",
    "        print('Failed: %s' % image_url)\n",
    "        failed.append(image_url)\n",
    "\n"
   ]
  },
  {
   "cell_type": "code",
   "execution_count": null,
   "metadata": {},
   "outputs": [],
   "source": [
    "#画像のURLが重複していた場合は削除\n",
    "def md5(fname):\n",
    "    hash_md5 = hashlib.md5()\n",
    "    with open(fname, \"rb\") as f:\n",
    "        for chunk in iter(lambda: f.read(4096), b\"\"):\n",
    "            hash_md5.update(chunk)\n",
    "    return hash_md5.hexdigest()\n",
    "\n",
    "hashes = set()\n",
    "\n",
    "for file in listdir('./images'):\n",
    "    file = join('images', file)\n",
    "    h = md5(file)\n",
    "    if h in hashes:\n",
    "        print('Duplicated image: %s' % file)\n",
    "        continue\n",
    "    hashes.add(h)"
   ]
  }
 ],
 "metadata": {
  "kernelspec": {
   "display_name": "Python 3",
   "language": "python",
   "name": "python3"
  },
  "language_info": {
   "codemirror_mode": {
    "name": "ipython",
    "version": 3
   },
   "file_extension": ".py",
   "mimetype": "text/x-python",
   "name": "python",
   "nbconvert_exporter": "python",
   "pygments_lexer": "ipython3",
   "version": "3.6.5"
  }
 },
 "nbformat": 4,
 "nbformat_minor": 2
}
