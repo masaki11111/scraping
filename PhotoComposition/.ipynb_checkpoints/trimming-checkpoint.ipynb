{
 "cells": [
  {
   "cell_type": "code",
   "execution_count": null,
   "metadata": {},
   "outputs": [],
   "source": [
    "from selenium import webdriver\n",
    "import time\n",
    "import requests\n",
    "import hashlib\n",
    "from os import listdir\n",
    "from os.path import join\n",
    "import pywinauto\n",
    "from selenium.webdriver.support.ui import Select \n",
    "import json\n",
    "import getpass"
   ]
  },
  {
   "cell_type": "code",
   "execution_count": null,
   "metadata": {},
   "outputs": [],
   "source": [
    "#tトリミングできるサイトに繋げる\n",
    "driver = webdriver.Chrome(executable_path=\"C:/Users/care-lab/chromedriver.exe\")\n",
    "driver.get('https://www.remove.bg/upload')"
   ]
  },
  {
   "cell_type": "code",
   "execution_count": null,
   "metadata": {},
   "outputs": [],
   "source": [
    "#ファイルをアップロードする関数\n",
    "#.sendkeysでできなかったので，エクスプローラを利用する方法にしている\n",
    "def uploadFile(filePath):\n",
    "        # 開くダイアログを探して接続する\n",
    "        findWindow = lambda: pywinauto.findwindows.find_windows(title=u'開く')[0]\n",
    "        dialog = pywinauto.timings.wait_until_passes(5, 1, findWindow)\n",
    "\n",
    "        pwa_app = pywinauto.Application()\n",
    "        pwa_app.connect(handle=dialog)\n",
    "\n",
    "        window = pwa_app[u\"開く\"]\n",
    "\n",
    "        # テキストボックス(ファイル名)にPATHを入力\n",
    "        tb = window[u\"ファイル名(&N):\"]\n",
    "        if tb.is_enabled():\n",
    "            tb.click()\n",
    "            edit = window.Edit4\n",
    "            edit.set_focus()\n",
    "            edit.set_text(filePath)\n",
    "        time.sleep(5)\n",
    "\n",
    "        # 開くボタンを押す（Alt+O）\n",
    "        pywinauto.keyboard.send_keys(\"%O\")\n",
    "        \n",
    "#写真を挙げるボタンをクリック\n",
    "photo_btn= driver.find_element_by_css_selector('#home > div.display-t.text-center.upload-page-header-text > div > div > div > div > button')\n",
    "photo_btn.click()\n",
    "#ファイルをアップロード\n",
    "uploadFile(r\"C:\\Users\\care-lab\\Documents\\Mywork\\PhotoComposition\\input\\0001.jpg\")"
   ]
  },
  {
   "cell_type": "code",
   "execution_count": null,
   "metadata": {},
   "outputs": [],
   "source": [
    "#recapture対策\n",
    "time.sleep(5)\n",
    "driver.execute_script('var element=document.getElementById(\"g-recaptcha-response\"); element.style.display=\"\";')\n",
    "service_key = '' # 2captchaのservice key を入力してください\n",
    "#google_site_key='6LfWxZMUAAAAAKFJ0Dmkfmv9XATet65Jn-juQtXR'\n",
    "google_site_key='6Lch0JMUAAAAAJUaQ99Q4_Pi73QNrXh-h9jmDBy1'\n",
    "pageurl = 'https://www.remove.bg/upload' #recaptureのあるサイトurl\n",
    "url = \"http://2captcha.com/in.php?key=\" + service_key + \"&method=userrecaptcha&googlekey=\" + google_site_key + \"&pageurl=\" + pageurl \n",
    "resp = requests.get(url) \n",
    "if resp.text[0:2] != 'OK': \n",
    "    quit('Service error. Error code:' + resp.text) \n",
    "captcha_id = resp.text[3:]\n",
    "fetch_url = \"http://2captcha.com/res.php?key=\"+ service_key + \"&action=get&id=\" + captcha_id\n",
    "for i in range(1, 10):\n",
    "    time.sleep(5) # wait 5 sec.\n",
    "    resp = requests.get(fetch_url)\n",
    "    if resp.text[0:2] == 'OK':\n",
    "        break\n",
    "print('Google response token: ', resp.text[3:])\n",
    "driver.find_element_by_id('g-recaptcha-response').send_keys(resp.text[3:])# textareaへトークン入力\n",
    "time.sleep(20)#トークン入力に時間がかかるから長めに取っておく\n"
   ]
  }
 ],
 "metadata": {
  "kernelspec": {
   "display_name": "Python 3",
   "language": "python",
   "name": "python3"
  },
  "language_info": {
   "codemirror_mode": {
    "name": "ipython",
    "version": 3
   },
   "file_extension": ".py",
   "mimetype": "text/x-python",
   "name": "python",
   "nbconvert_exporter": "python",
   "pygments_lexer": "ipython3",
   "version": "3.6.5"
  }
 },
 "nbformat": 4,
 "nbformat_minor": 2
}
