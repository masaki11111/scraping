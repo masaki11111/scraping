{
 "cells": [
  {
   "cell_type": "code",
   "execution_count": null,
   "metadata": {},
   "outputs": [],
   "source": [
    "from selenium import webdriver\n",
    "import pandas as pd\n",
    "import time"
   ]
  },
  {
   "cell_type": "code",
   "execution_count": null,
   "metadata": {},
   "outputs": [],
   "source": [
    "#chromedriver.exeを起動\n",
    "driver=webdriver.Chrome(executable_path=r\"C:\\Users\\care-lab\\chromedriver.exe\")\n",
    "#ekitenサイトをに移動\n",
    "driver.get('https://www.ekiten.jp/area/')\n",
    "list=[]"
   ]
  },
  {
   "cell_type": "code",
   "execution_count": null,
   "metadata": {},
   "outputs": [],
   "source": [
    "#1ページ目の情報取得\n",
    "elems=driver.find_elements_by_class_name('p-shop_box')#class名に空白がある場合はどちらか一方を選んであげるとよい\n",
    "for elem in elems:\n",
    "    _list=[]\n",
    "    #店名\n",
    "    elem_title=elem.find_element_by_class_name('p-shop_box_head_title_body').text\n",
    "    _list.append(elem_title)\n",
    "    #ジャンル\n",
    "    elem_supplement=elem.find_element_by_class_name('p-shop_box_head_supplement').text\n",
    "    _list.append(elem_supplement)\n",
    "    #住所\n",
    "    elem_address=elem.find_element_by_class_name('p-shop_box_basic_info').find_elements_by_class_name('p-shop_box_basic_info_item')[1]\n",
    "    elem_address=elem_address.text.split('\\n')[1]\n",
    "    _list.append(elem_address)\n",
    "    #リンク先のURL\n",
    "    href = elem.find_element_by_tag_name(\"a\").get_attribute(\"href\")\n",
    "    _list.append(href)\n",
    "    list.append(_list)\n",
    "\n",
    "#２ページ目以降の情報取得\n",
    "#2ページ目へ移動    \n",
    "path='/html/body/div[2]/div/div[2]/main/div[44]/div/a'\n",
    "next_page=driver.find_element_by_xpath(path).get_attribute(\"href\")\n",
    "driver.get(next_page)\n",
    "driver.implicitly_wait(10)#implicity_wait():指定したドライバに対して引数の時間分（秒）、要素が見つかるまで(ロードされるまで)待機\n",
    "time.sleep(10)\n",
    "\n",
    "#3ページ目へのpath\n",
    "path=\"/html/body/div[2]/div/div[2]/main/div[44]/div[2]/a\"\n",
    "#while True:\n",
    "#len(elem)\n",
    "for i in range(2):\n",
    "    elems=driver.find_elements_by_class_name('p-shop_box')#class名に空白がある場合はどちらか一方を選んであげるとよい\n",
    "    for elem in elems:\n",
    "        _list=[]\n",
    "        elem_title=elem.find_element_by_class_name('p-shop_box_head_title_body').text\n",
    "        _list.append(elem_title)\n",
    "        elem_supplement=elem.find_element_by_class_name('p-shop_box_head_supplement').text\n",
    "        _list.append(elem_supplement)\n",
    "        elem_address=elem.find_element_by_class_name('p-shop_box_basic_info').find_elements_by_class_name('p-shop_box_basic_info_item')[1]\n",
    "        elem_address=elem_address.text.split('\\n')[1]\n",
    "        _list.append(elem_address)\n",
    "        href = elem.find_element_by_tag_name(\"a\").get_attribute(\"href\")#リンク先のURLの取得方法\n",
    "        _list.append(href)\n",
    "        list.append(_list)\n",
    "        \n",
    "    if len(driver.find_elements_by_xpath(path))>0:\n",
    "        next_page=driver.find_element_by_xpath(path).get_attribute(\"href\")\n",
    "        driver.get(next_page)\n",
    "        driver.implicitly_wait(10)#implicity_wait():指定したドライバに対して引数の時間分（秒）、要素が見つかるまで(ロードされるまで)待機\n",
    "        time.sleep(10)\n",
    "        #4ページ目以降のpath\n",
    "        path=\"/html/body/div[2]/div/div[2]/main/div[44]/div[3]/a\"  \n",
    "    else:\n",
    "        break"
   ]
  },
  {
   "cell_type": "code",
   "execution_count": null,
   "metadata": {},
   "outputs": [],
   "source": [
    "#CSVファイルに書き込み\n",
    "df=pd.DataFrame(list)\n",
    "df.columns=['店舗名','ジャンル','住所','URL']\n",
    "df.to_csv('ekiten.csv',encoding=\"utf_8_sig\")#インデックスを消すためにはFalseを"
   ]
  },
  {
   "cell_type": "code",
   "execution_count": null,
   "metadata": {},
   "outputs": [],
   "source": []
  }
 ],
 "metadata": {
  "kernelspec": {
   "display_name": "Python 3",
   "language": "python",
   "name": "python3"
  },
  "language_info": {
   "codemirror_mode": {
    "name": "ipython",
    "version": 3
   },
   "file_extension": ".py",
   "mimetype": "text/x-python",
   "name": "python",
   "nbconvert_exporter": "python",
   "pygments_lexer": "ipython3",
   "version": "3.6.5"
  }
 },
 "nbformat": 4,
 "nbformat_minor": 2
}
