{
 "cells": [
  {
   "cell_type": "code",
   "execution_count": 66,
   "metadata": {},
   "outputs": [],
   "source": [
    "from selenium import webdriver\n",
    "import pandas as pd\n",
    "import time"
   ]
  },
  {
   "cell_type": "code",
   "execution_count": 67,
   "metadata": {},
   "outputs": [],
   "source": [
    "browser=webdriver.Chrome()"
   ]
  },
  {
   "cell_type": "code",
   "execution_count": 68,
   "metadata": {},
   "outputs": [],
   "source": [
    "url=\"https://review.rakuten.co.jp/item/1/206971_10000130/1.1/\""
   ]
  },
  {
   "cell_type": "code",
   "execution_count": 69,
   "metadata": {},
   "outputs": [],
   "source": [
    "browser.get(url)"
   ]
  },
  {
   "cell_type": "code",
   "execution_count": 70,
   "metadata": {},
   "outputs": [],
   "source": [
    "page=1\n",
    "#i=2"
   ]
  },
  {
   "cell_type": "code",
   "execution_count": 71,
   "metadata": {},
   "outputs": [],
   "source": [
    "columns=[\"score\",\"text\"]#横軸作成\n",
    "df=pd.DataFrame(columns=columns)#データフレーム作成\n",
    "path=\"//*[@id='revRvwSec']/div[1]/div/div[3]/div[16]/div/div/a[5]\""
   ]
  },
  {
   "cell_type": "code",
   "execution_count": 72,
   "metadata": {},
   "outputs": [
    {
     "name": "stdout",
     "output_type": "stream",
     "text": [
      " \n",
      "---------------------------page: 1 -----------------------------\n",
      " \n",
      "Starting to get reviews...\n",
      " \n",
      "   score                                               text\n",
      "0      5                  もう何度もリピしています。簡単においしくいただけて、栄養満点です。\n",
      "1      5  10月24日は秋の土用丑\\n【 長焼き増量】特大国産うなぎ蒲焼き\\n3種セット 送料無料 で...\n",
      "2      5                      去年のですけど、そう言えば、美味しかったと言っていました。\n",
      "3      5  一貫して管理された品質のよい『国産うなぎ』を、皮はパリッと中はふんわりと焼き上げた川口水産さ...\n",
      "4      5  祖母へ年末の挨拶用にと購入しました。\\n敬老の日にも喜んでもらえましたが、今回もたいへん好評...\n",
      "5      5  ふるさと納税で初めて食べたとき「ここのうなぎ美味しい」と冷凍とは思えない美味しさに驚きました...\n",
      "6      5  実家の母の誕生日祝いにレビュー高評価のこちらと肝吸いを贈りました。\\nフワフワの食感でとって...\n",
      "7      5  去年一度こちらで購入し美味しかったので\\n父の日に送りました。母と美味しく食べたようです。\\...\n",
      "8      4  父の日ギフトとして注文しました（着日を指定して）。\\nうなぎは間違いなく喜ばれるのでいいです...\n",
      "9      5  3種セットを注文。\\n細かく刻まれたものは、ひつまぶし様に。\\nまるまる一尾のものは、そのま...\n",
      "10     5  お店で売ってるんだけどなんだか気持ち悪くて買ったことがなくてうなぎ専門店でよく通って食べてい...\n",
      "11     5  贈り物用に購入しました。届いたその日に食べてもらえたようで喜んでいました！ありがとうございました。\n",
      "12     4  何年か前の父の日に、鰻を送って大喜びだったので、また鰻を購入致しました。こちらのお店は初めて...\n",
      "13     4  いつも父の日にはお肉にしていましたが、今回は鰻をチョイス！お店も沢山ある中、こちらを選んだ理...\n",
      "14     5  父の日で利用させていただきました。\\nいつか美味しいうなぎを食べさせてあげたいなと思いながら...\n"
     ]
    }
   ],
   "source": [
    "while True:\n",
    "    print(\" \")\n",
    "    print(\"---------------------------page: {} -----------------------------\".format(page))\n",
    "    print(\" \")\n",
    "    print(\"Starting to get reviews...\")\n",
    "    print(\" \")\n",
    "    reviews=browser.find_elements_by_css_selector(\"div.revRvwUserMain\")#レビューのCSSセレクタ\n",
    "    #dfつくる\n",
    "    for review in reviews:\n",
    "        score=review.find_element_by_css_selector(\"span.revUserRvwerNum.value\").text\n",
    "        text=review.find_element_by_css_selector(\"dd.revRvwUserEntryCmt.description\").text\n",
    "        se=pd.Series([score,text],columns)\n",
    "        df=df.append(se,columns)\n",
    "    print(df)\n",
    "    #if len(browser.find_elements_by_xpath(path))>0:\n",
    "    if i>0:\n",
    "        next_page=browser.find_element_by_xpath(path).get_attribute(\"href\")\n",
    "        print(\"next url:{}\".format(next_page))\n",
    "        browser.get(next_page)\n",
    "        page+=1\n",
    "        browser.implicitly_wait(10)#implicity_wait():指定したドライバに対して引数の時間分（秒）、要素が見つかるまで(ロードされるまで)待機\n",
    "        print(\"Moving to next page......\")\n",
    "        time.sleep(10)\n",
    "        path=\"//*[@id='revRvwSec']/div[1]/div/div[2]/div[16]/div/div/a[6]\"\n",
    "        i-=1    \n",
    "    else:\n",
    "        break"
   ]
  },
  {
   "cell_type": "code",
   "execution_count": 74,
   "metadata": {},
   "outputs": [
    {
     "name": "stdout",
     "output_type": "stream",
     "text": [
      " \n",
      "Saving as csv.....\n",
      "\n",
      "Processing Exit\n"
     ]
    }
   ],
   "source": [
    "print(\" \")\n",
    "print(\"Saving as csv.....\")\n",
    "print(\"\")\n",
    "df.to_csv(\"review.csv\", encoding = 'utf_8_sig')\n",
    "print(\"Processing Exit\")"
   ]
  },
  {
   "cell_type": "code",
   "execution_count": null,
   "metadata": {},
   "outputs": [],
   "source": []
  }
 ],
 "metadata": {
  "kernelspec": {
   "display_name": "Python 3",
   "language": "python",
   "name": "python3"
  },
  "language_info": {
   "codemirror_mode": {
    "name": "ipython",
    "version": 3
   },
   "file_extension": ".py",
   "mimetype": "text/x-python",
   "name": "python",
   "nbconvert_exporter": "python",
   "pygments_lexer": "ipython3",
   "version": "3.6.5"
  }
 },
 "nbformat": 4,
 "nbformat_minor": 2
}
