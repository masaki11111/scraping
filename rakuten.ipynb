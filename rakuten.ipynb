{
 "cells": [
  {
   "cell_type": "code",
   "execution_count": null,
   "metadata": {},
   "outputs": [],
   "source": [
    "from selenium import webdriver\n",
    "import pandas as pd\n",
    "import time"
   ]
  },
  {
   "cell_type": "code",
   "execution_count": null,
   "metadata": {},
   "outputs": [],
   "source": [
    "#rakutenのサイトへ移動\n",
    "browser=webdriver.Chrome()\n",
    "url=\"https://review.rakuten.co.jp/item/1/206971_10000130/1.1/\"\n",
    "browser.get(url)"
   ]
  },
  {
   "cell_type": "code",
   "execution_count": null,
   "metadata": {},
   "outputs": [],
   "source": [
    "#データフレーム作成\n",
    "#横軸作成\n",
    "columns=[\"score\",\"text\"]\n",
    "df=pd.DataFrame(columns=columns)"
   ]
  },
  {
   "cell_type": "code",
   "execution_count": null,
   "metadata": {},
   "outputs": [],
   "source": [
    "page=1\n",
    "#2ページ目へのpath\n",
    "path=\"//*[@id='revRvwSec']/div[1]/div/div[3]/div[16]/div/div/a[5]\"\n",
    "while True:\n",
    "    print(\" \")\n",
    "    print(\"---------------------------page: {} -----------------------------\".format(page))\n",
    "    print(\" \")\n",
    "    print(\"Starting to get reviews...\")\n",
    "    print(\" \")\n",
    "    reviews=browser.find_elements_by_css_selector(\"div.revRvwUserMain\")#レビューのCSSセレクタ\n",
    "    #dfに書き込み\n",
    "    for review in reviews:\n",
    "        score=review.find_element_by_css_selector(\"span.revUserRvwerNum.value\").text\n",
    "        text=review.find_element_by_css_selector(\"dd.revRvwUserEntryCmt.description\").text\n",
    "        se=pd.Series([score,text],columns)\n",
    "        df=df.append(se,columns)\n",
    "    print(df)\n",
    "    \n",
    "    if len(browser.find_elements_by_xpath(path))>0:\n",
    "        next_page=browser.find_element_by_xpath(path).get_attribute(\"href\")\n",
    "        print(\"next url:{}\".format(next_page))\n",
    "        browser.get(next_page)\n",
    "        page+=1\n",
    "        browser.implicitly_wait(10)#implicity_wait():指定したドライバに対して引数の時間分（秒）、要素が見つかるまで(ロードされるまで)待機\n",
    "        print(\"Moving to next page......\")\n",
    "        time.sleep(10)\n",
    "        #3ページ目以降へのpath\n",
    "        path=\"//*[@id='revRvwSec']/div[1]/div/div[2]/div[16]/div/div/a[6]\"\n",
    "    else:\n",
    "        break"
   ]
  },
  {
   "cell_type": "code",
   "execution_count": null,
   "metadata": {},
   "outputs": [],
   "source": [
    "#csvへ出力\n",
    "print(\" \")\n",
    "print(\"Saving as csv.....\")\n",
    "print(\"\")\n",
    "df.to_csv(\"review.csv\", encoding = 'utf_8_sig')\n",
    "print(\"Processing Exit\")"
   ]
  },
  {
   "cell_type": "code",
   "execution_count": null,
   "metadata": {},
   "outputs": [],
   "source": []
  }
 ],
 "metadata": {
  "kernelspec": {
   "display_name": "Python 3",
   "language": "python",
   "name": "python3"
  },
  "language_info": {
   "codemirror_mode": {
    "name": "ipython",
    "version": 3
   },
   "file_extension": ".py",
   "mimetype": "text/x-python",
   "name": "python",
   "nbconvert_exporter": "python",
   "pygments_lexer": "ipython3",
   "version": "3.6.5"
  }
 },
 "nbformat": 4,
 "nbformat_minor": 2
}
