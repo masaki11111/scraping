{
 "cells": [
  {
   "cell_type": "code",
   "execution_count": 38,
   "metadata": {},
   "outputs": [],
   "source": [
    "# -*- coding: utf-8 -*-\n",
    "import sys\n",
    "import codecs\n",
    "sys.stdout = codecs.getwriter('utf_8')(sys.stdout)\n",
    "from selenium import webdriver"
   ]
  },
  {
   "cell_type": "code",
   "execution_count": 39,
   "metadata": {},
   "outputs": [],
   "source": [
    "from selenium.common.exceptions import WebDriverException"
   ]
  },
  {
   "cell_type": "code",
   "execution_count": 40,
   "metadata": {},
   "outputs": [],
   "source": [
    "#ActionChainsクラスは通常のクリック処理や値の設定以外にもShiftを押しながら入力という処理やF1やF3など特殊なキー操作を行うことができる\n",
    "from selenium.webdriver.common.action_chains import ActionChains"
   ]
  },
  {
   "cell_type": "code",
   "execution_count": 41,
   "metadata": {},
   "outputs": [],
   "source": [
    "import time"
   ]
  },
  {
   "cell_type": "code",
   "execution_count": 42,
   "metadata": {},
   "outputs": [],
   "source": [
    "import random"
   ]
  },
  {
   "cell_type": "code",
   "execution_count": 43,
   "metadata": {},
   "outputs": [],
   "source": [
    "#browser=webdriver.Chrome()\n",
    "def login():\n",
    "    browser.get('https://www.instagram.com/accounts/login/?source=auth_switcher')\n",
    "    f=open('insta.txt','a')\n",
    "    f.write(\"instagramにアクセスしました\\n\")\n",
    "    f.close()\n",
    "    time.sleep(1)\n",
    "\n",
    "    #メアドとパスワードを入力\n",
    "    browser.find_element_by_name('username').send_keys('shokoshi2')\n",
    "    time.sleep(1)\n",
    "    browser.find_element_by_name('password').send_keys('evnLEX8P')\n",
    "    time.sleep(1)\n",
    "\n",
    "    #ログインボタンを押す\n",
    "    browser.find_element_by_class_name('L3NKy       ').click()\n",
    "    time.sleep(random.randint(2,5))\n",
    "    f=open('insta.txt','a')\n",
    "    f.write(\"instagramにログインしました\\n\")\n",
    "    f.close()\n",
    "    time.sleep(1)\n",
    "    \n"
   ]
  },
  {
   "cell_type": "code",
   "execution_count": 44,
   "metadata": {},
   "outputs": [],
   "source": [
    "def tagsearch(tag):\n",
    "    #指定したtagのページへ移動\n",
    "    instaurl='https://www.instagram.com/explore/tags/'\n",
    "    browser.get(instaurl+tag)\n",
    "    time.sleep(random.randint(2,10))\n",
    "    f=open('insta.txt','a')\n",
    "    f.write(\"listtagより、\"+tag+\"で検索を行いました\\n\")\n",
    "    f.close()\n",
    "    time.sleep(1)"
   ]
  },
  {
   "cell_type": "code",
   "execution_count": 45,
   "metadata": {},
   "outputs": [],
   "source": [
    "def clicknice_follow():\n",
    "    target=browser.find_elements_by_class_name('_9AhH0')[10]#写真のtag\n",
    "    actions=ActionChains(browser)\n",
    "    actions.move_to_element(target)#ターゲット要素(target)にマウスカーソル移動\n",
    "    actions.perform()#実行\n",
    "    f=open('insta.txt','a')\n",
    "    f.write(\"最新の投稿まで画面を移動しました\\n\")\n",
    "    f.close()\n",
    "    time.sleep(1)\n",
    "    \n",
    "    try:\n",
    "            browser.find_elements_by_class_name('_9AhH0')[9].click()#写真のtag\n",
    "            time.sleep(random.randint(2,10))\n",
    "            f=open('insta.txt','a')\n",
    "            f.write('投稿をクリックしました\\n')\n",
    "            f.close()\n",
    "            time.sleep(1)\n",
    "            browser.find_element_by_class_name('fr66n').click()#いいねのtag\n",
    "            time.sleep(random.randint(2,10))\n",
    "            f=open('insta.txt','a')\n",
    "            f.write(\"投稿をいいねしました\\n\")\n",
    "            f.close()\n",
    "            time.sleep(1)\n",
    "            browser.find_element_by_class_name('bY2yH').click()#フォローのtag\n",
    "            f=open('insta.txt','a')\n",
    "            f.write(\"フォローしました\\n\")\n",
    "            f.close()\n",
    "            time.sleep(1)\n",
    "\n",
    "    except webDriverException:\n",
    "        f=open('insta.txt','a')\n",
    "        f.write(\"エラーが発生しました\\n\")\n",
    "        f.close()\n",
    "        return\n",
    "    \n",
    "    for i in range(random.randint(5,10)):\n",
    "        try:\n",
    "            browser.find_element_by_class_name('coreSpriteRightPaginationArrow').click()#次の写真へ移動するtag\n",
    "            f = open('insta.txt','a')\n",
    "            f.write(\"次の投稿へ移動しました\\n\")\n",
    "            f.close()\n",
    "            time.sleep(random.randint(random.randint(2, 5), random.randint(10, 15)))\n",
    "            \n",
    "            browser.find_element_by_class_name('fr66n').click()#いいねのtag\n",
    "            f = open('insta.txt','a')\n",
    "            f.write(\"投稿をいいねしました\\n\")\n",
    "            f.close()\n",
    "            time.sleep(random.randint(random.randint(2, 5), random.randint(10, 15)))\n",
    "            \n",
    "            browser.find_element_by_class_name('bY2yH').click()#フォローのtag\n",
    "            f=open('insta.txt','a')\n",
    "            f.write(\"フォローしました\\n\")\n",
    "            f.close()\n",
    "            time.sleep(1)\n",
    "    \n",
    "        except WebDriverException:\n",
    "            f = open('insta.txt','a')\n",
    "            f.write(\"２つ目の位置でエラーが発生しました\\n\")\n",
    "            f.close()\n",
    "            break\n",
    "    "
   ]
  },
  {
   "cell_type": "code",
   "execution_count": 46,
   "metadata": {
    "scrolled": true
   },
   "outputs": [
    {
     "ename": "KeyboardInterrupt",
     "evalue": "",
     "output_type": "error",
     "traceback": [
      "\u001b[1;31m---------------------------------------------------------------------------\u001b[0m",
      "\u001b[1;31mKeyboardInterrupt\u001b[0m                         Traceback (most recent call last)",
      "\u001b[1;32m<ipython-input-46-e6e2df11cea8>\u001b[0m in \u001b[0;36m<module>\u001b[1;34m()\u001b[0m\n\u001b[0;32m     10\u001b[0m \u001b[1;33m\u001b[0m\u001b[0m\n\u001b[0;32m     11\u001b[0m         \u001b[0mtagsearch\u001b[0m\u001b[1;33m(\u001b[0m\u001b[0mrandom\u001b[0m\u001b[1;33m.\u001b[0m\u001b[0mchoice\u001b[0m\u001b[1;33m(\u001b[0m\u001b[0mtaglist\u001b[0m\u001b[1;33m)\u001b[0m\u001b[1;33m)\u001b[0m\u001b[1;31m#ランダムにtagを選択\u001b[0m\u001b[1;33m\u001b[0m\u001b[0m\n\u001b[1;32m---> 12\u001b[1;33m         \u001b[0mclicknice_follow\u001b[0m\u001b[1;33m(\u001b[0m\u001b[1;33m)\u001b[0m\u001b[1;33m\u001b[0m\u001b[0m\n\u001b[0m\u001b[0;32m     13\u001b[0m \u001b[1;33m\u001b[0m\u001b[0m\n\u001b[0;32m     14\u001b[0m         \u001b[0mbrowser\u001b[0m\u001b[1;33m.\u001b[0m\u001b[0mclose\u001b[0m\u001b[1;33m(\u001b[0m\u001b[1;33m)\u001b[0m\u001b[1;33m\u001b[0m\u001b[0m\n",
      "\u001b[1;32m<ipython-input-45-838fb1fe0467>\u001b[0m in \u001b[0;36mclicknice_follow\u001b[1;34m()\u001b[0m\n\u001b[0;32m     40\u001b[0m             \u001b[0mf\u001b[0m\u001b[1;33m.\u001b[0m\u001b[0mwrite\u001b[0m\u001b[1;33m(\u001b[0m\u001b[1;34m\"次の投稿へ移動しました\\n\"\u001b[0m\u001b[1;33m)\u001b[0m\u001b[1;33m\u001b[0m\u001b[0m\n\u001b[0;32m     41\u001b[0m             \u001b[0mf\u001b[0m\u001b[1;33m.\u001b[0m\u001b[0mclose\u001b[0m\u001b[1;33m(\u001b[0m\u001b[1;33m)\u001b[0m\u001b[1;33m\u001b[0m\u001b[0m\n\u001b[1;32m---> 42\u001b[1;33m             \u001b[0mtime\u001b[0m\u001b[1;33m.\u001b[0m\u001b[0msleep\u001b[0m\u001b[1;33m(\u001b[0m\u001b[0mrandom\u001b[0m\u001b[1;33m.\u001b[0m\u001b[0mrandint\u001b[0m\u001b[1;33m(\u001b[0m\u001b[0mrandom\u001b[0m\u001b[1;33m.\u001b[0m\u001b[0mrandint\u001b[0m\u001b[1;33m(\u001b[0m\u001b[1;36m2\u001b[0m\u001b[1;33m,\u001b[0m \u001b[1;36m5\u001b[0m\u001b[1;33m)\u001b[0m\u001b[1;33m,\u001b[0m \u001b[0mrandom\u001b[0m\u001b[1;33m.\u001b[0m\u001b[0mrandint\u001b[0m\u001b[1;33m(\u001b[0m\u001b[1;36m10\u001b[0m\u001b[1;33m,\u001b[0m \u001b[1;36m15\u001b[0m\u001b[1;33m)\u001b[0m\u001b[1;33m)\u001b[0m\u001b[1;33m)\u001b[0m\u001b[1;33m\u001b[0m\u001b[0m\n\u001b[0m\u001b[0;32m     43\u001b[0m \u001b[1;33m\u001b[0m\u001b[0m\n\u001b[0;32m     44\u001b[0m             \u001b[0mbrowser\u001b[0m\u001b[1;33m.\u001b[0m\u001b[0mfind_element_by_class_name\u001b[0m\u001b[1;33m(\u001b[0m\u001b[1;34m'fr66n'\u001b[0m\u001b[1;33m)\u001b[0m\u001b[1;33m.\u001b[0m\u001b[0mclick\u001b[0m\u001b[1;33m(\u001b[0m\u001b[1;33m)\u001b[0m\u001b[1;31m#いいねのtag\u001b[0m\u001b[1;33m\u001b[0m\u001b[0m\n",
      "\u001b[1;31mKeyboardInterrupt\u001b[0m: "
     ]
    }
   ],
   "source": [
    "#browser = webdriver.Chrome()\n",
    "if __name__ == '__main__':#おまじない\n",
    "#以下のtaglistには、いいねをしたいtagをセットしてください\n",
    "    taglist = ['animal', 'animals', 'reptile', 'animalcute']\n",
    "    \n",
    "    while True:\n",
    "        browser = webdriver.Chrome()#指定の位置にwebdriverのpathを書いてください　例）/Users/ユーザー名/chromedriver\n",
    "        time.sleep(1)\n",
    "        login()\n",
    "\n",
    "        tagsearch(random.choice(taglist))#ランダムにtagを選択\n",
    "        clicknice_follow()\n",
    "\n",
    "        browser.close()\n",
    "\n",
    "        abc = random.randint(random.randint(20, 21), random.randint(24, 30))\n",
    "        #encoding = \"utf-8\"\n",
    "        f = open('insta.txt','a')\n",
    "        f.write(str(abc)+\"秒待機します\\n\")\n",
    "        f.close()\n",
    "\n",
    "        time.sleep(abc)        \n"
   ]
  },
  {
   "cell_type": "code",
   "execution_count": null,
   "metadata": {},
   "outputs": [],
   "source": []
  },
  {
   "cell_type": "code",
   "execution_count": null,
   "metadata": {},
   "outputs": [],
   "source": []
  },
  {
   "cell_type": "code",
   "execution_count": null,
   "metadata": {},
   "outputs": [],
   "source": []
  },
  {
   "cell_type": "code",
   "execution_count": null,
   "metadata": {},
   "outputs": [],
   "source": []
  }
 ],
 "metadata": {
  "kernelspec": {
   "display_name": "Python 3",
   "language": "python",
   "name": "python3"
  },
  "language_info": {
   "codemirror_mode": {
    "name": "ipython",
    "version": 3
   },
   "file_extension": ".py",
   "mimetype": "text/x-python",
   "name": "python",
   "nbconvert_exporter": "python",
   "pygments_lexer": "ipython3",
   "version": "3.6.5"
  }
 },
 "nbformat": 4,
 "nbformat_minor": 2
}
