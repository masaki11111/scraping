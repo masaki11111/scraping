{
 "cells": [
  {
   "cell_type": "code",
   "execution_count": 24,
   "metadata": {},
   "outputs": [
    {
     "name": "stdout",
     "output_type": "stream",
     "text": [
      "2019-06-23 20:42:19.818087\n",
      "I'm working.2\n",
      "2019-06-23 20:42:19.818087\n",
      "I'm working.2\n",
      "2019-06-23 20:42:19.822133\n",
      "I'm working.1\n",
      "2019-06-23 20:42:19.822133\n",
      "I'm working...\n",
      "2019-06-23 20:42:19.822931\n",
      "I'm working.1\n",
      "2019-06-23 20:42:24.825592\n",
      "I'm working.2\n",
      "2019-06-23 20:42:24.833582\n",
      "I'm working.2\n",
      "2019-06-23 20:42:24.841582\n",
      "I'm working.1\n",
      "2019-06-23 20:42:24.849587\n",
      "I'm working.2\n",
      "2019-06-23 20:42:24.856303\n",
      "I'm working.1\n",
      "2019-06-23 20:42:24.864622\n",
      "I'm working...\n",
      "2019-06-23 20:42:24.871405\n",
      "I'm working.1\n"
     ]
    },
    {
     "ename": "KeyboardInterrupt",
     "evalue": "",
     "output_type": "error",
     "traceback": [
      "\u001b[1;31m---------------------------------------------------------------------------\u001b[0m",
      "\u001b[1;31mKeyboardInterrupt\u001b[0m                         Traceback (most recent call last)",
      "\u001b[1;32m<ipython-input-24-2d37f8dff441>\u001b[0m in \u001b[0;36m<module>\u001b[1;34m()\u001b[0m\n\u001b[0;32m     14\u001b[0m \u001b[1;32mwhile\u001b[0m \u001b[1;32mTrue\u001b[0m\u001b[1;33m:\u001b[0m\u001b[1;33m\u001b[0m\u001b[0m\n\u001b[0;32m     15\u001b[0m   \u001b[0mschedule\u001b[0m\u001b[1;33m.\u001b[0m\u001b[0mrun_pending\u001b[0m\u001b[1;33m(\u001b[0m\u001b[1;33m)\u001b[0m\u001b[1;33m\u001b[0m\u001b[0m\n\u001b[1;32m---> 16\u001b[1;33m   \u001b[0mtime\u001b[0m\u001b[1;33m.\u001b[0m\u001b[0msleep\u001b[0m\u001b[1;33m(\u001b[0m\u001b[1;36m5\u001b[0m\u001b[1;33m)\u001b[0m\u001b[1;33m\u001b[0m\u001b[0m\n\u001b[0m",
      "\u001b[1;31mKeyboardInterrupt\u001b[0m: "
     ]
    }
   ],
   "source": [
    "import datetime\n",
    "import schedule\n",
    "import time\n",
    "\n",
    "def job2():\n",
    "  print(datetime.datetime.now())\n",
    "  print(\"I'm working.1\")  \n",
    "\n",
    "def job1():\n",
    "  print(datetime.datetime.now())\n",
    "  print(\"I'm working.2\")      \n",
    "schedule.every(5).seconds.do(job1)\n",
    "schedule.every(5).seconds.do(job2)\n",
    "while True:\n",
    "  schedule.run_pending()\n",
    "  time.sleep(5)"
   ]
  },
  {
   "cell_type": "code",
   "execution_count": null,
   "metadata": {},
   "outputs": [],
   "source": []
  }
 ],
 "metadata": {
  "kernelspec": {
   "display_name": "Python 3",
   "language": "python",
   "name": "python3"
  },
  "language_info": {
   "codemirror_mode": {
    "name": "ipython",
    "version": 3
   },
   "file_extension": ".py",
   "mimetype": "text/x-python",
   "name": "python",
   "nbconvert_exporter": "python",
   "pygments_lexer": "ipython3",
   "version": "3.6.5"
  }
 },
 "nbformat": 4,
 "nbformat_minor": 2
}
