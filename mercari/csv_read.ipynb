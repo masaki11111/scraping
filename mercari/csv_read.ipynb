{
 "cells": [
  {
   "cell_type": "code",
   "execution_count": 14,
   "metadata": {},
   "outputs": [],
   "source": [
    "import pandas as pd"
   ]
  },
  {
   "cell_type": "code",
   "execution_count": 19,
   "metadata": {},
   "outputs": [
    {
     "name": "stdout",
     "output_type": "stream",
     "text": [
      "10\n",
      "おもちゃ・ホビー・グッズ（1328)\n"
     ]
    }
   ],
   "source": [
    "csv_input = pd.read_csv(filepath_or_buffer=\"book.csv\", encoding=\"ms932\", sep=\",\")\n",
    "\n",
    "# インプットの項目数（行数 * カラム数）を返却します。\n",
    "print(csv_input.size)\n",
    "\n",
    "# 指定したカラムだけ抽出したDataFrameオブジェクトを返却します。\n",
    "#print(csv_input[[\"商品名\", \"商品の説明\",\"カテゴリ\",\"商品の状態\",\"販売価格\"]]) \n",
    "print(csv_input.values[0][2])"
   ]
  },
  {
   "cell_type": "code",
   "execution_count": null,
   "metadata": {},
   "outputs": [],
   "source": []
  }
 ],
 "metadata": {
  "kernelspec": {
   "display_name": "Python 3",
   "language": "python",
   "name": "python3"
  },
  "language_info": {
   "codemirror_mode": {
    "name": "ipython",
    "version": 3
   },
   "file_extension": ".py",
   "mimetype": "text/x-python",
   "name": "python",
   "nbconvert_exporter": "python",
   "pygments_lexer": "ipython3",
   "version": "3.6.5"
  }
 },
 "nbformat": 4,
 "nbformat_minor": 2
}
