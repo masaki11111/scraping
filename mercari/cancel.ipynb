{
 "cells": [
  {
   "cell_type": "code",
   "execution_count": null,
   "metadata": {},
   "outputs": [],
   "source": [
    "from selenium import webdriver\n",
    "import pandas as pd\n",
    "import time\n",
    "import random\n",
    "import getpass # 実行ユーザーを取得するために使用\n",
    "import requests\n",
    "import json\n",
    "from selenium.webdriver.support.ui import Select # Selectタグが扱えるエレメントに変化させる為の関数を呼び出す\n",
    "from selenium.webdriver.common.action_chains import ActionChains"
   ]
  },
  {
   "cell_type": "code",
   "execution_count": null,
   "metadata": {},
   "outputs": [],
   "source": [
    "def login():\n",
    "    driver.get('https://www.mercari.com/jp/login/')\n",
    "    f=open('mercari.txt','a')\n",
    "    f.write(\"mercariにアクセスしました\\n\")\n",
    "    f.close()\n",
    "    time.sleep(1)\n",
    "\n",
    "    #メアドとパスワードを入力\n",
    "    driver.find_element_by_name('email').send_keys('')\n",
    "    time.sleep(1)\n",
    "    driver.find_element_by_name('password').send_keys('')\n",
    "    time.sleep(1)\n",
    "\n",
    "    #recaptureのtextareaとログインボタンをウインドウ内に表示するために最下部にスクロール\n",
    "    driver.execute_script(\"window.scrollTo(0, document.body.scrollHeight);\")\n",
    "\n",
    "    #recapture対策\n",
    "    driver.execute_script('var element=document.getElementById(\"g-recaptcha-response\"); element.style.display=\"\";')\n",
    "    service_key = '' # 2captchaのservice key \n",
    "    google_site_key = '6LfZGCYTAAAAAHoK-s7Lg5OdYg5Fq4susvALmZoc' # reCAPTCHAのdata-sitekey\n",
    "    pageurl = 'https://www.mercari.com/jp/login/' #recaptureのあるサイトurl\n",
    "    url = \"http://2captcha.com/in.php?key=\" + service_key + \"&method=userrecaptcha&googlekey=\" + google_site_key + \"&pageurl=\" + pageurl \n",
    "    resp = requests.get(url) \n",
    "    if resp.text[0:2] != 'OK': \n",
    "        quit('Service error. Error code:' + resp.text) \n",
    "    captcha_id = resp.text[3:]\n",
    "    fetch_url = \"http://2captcha.com/res.php?key=\"+ service_key + \"&action=get&id=\" + captcha_id\n",
    "    for i in range(1, 10):\n",
    "        time.sleep(5) # wait 5 sec.\n",
    "        resp = requests.get(fetch_url)\n",
    "        if resp.text[0:2] == 'OK':\n",
    "            break\n",
    "    print('Google response token: ', resp.text[3:])\n",
    "    driver.find_element_by_id('g-recaptcha-response').send_keys(resp.text[3:])# textareaへトークン入力\n",
    "    time.sleep(2)\n",
    "    #ログインボタンを押す（textareaが邪魔でボタンを押せないのでクリック位置を下に1ずらしている\n",
    "    target=driver.find_element_by_xpath('/html/body/div[1]/main/div/form/div/button')\n",
    "    actions=ActionChains(driver)\n",
    "    actions.move_to_element(target)\n",
    "    actions.move_by_offset(0,1)#targetから下に1マウスカーソル移動\n",
    "    print(target.location)\n",
    "    actions.click()\n",
    "    actions.perform()#実行\n",
    "    time.sleep(random.randint(2,5))\n",
    "    f=open('mercari.txt','a')\n",
    "    f.write(\"mercariにログインしました\\n\")\n",
    "    f.close()"
   ]
  },
  {
   "cell_type": "code",
   "execution_count": null,
   "metadata": {
    "scrolled": true
   },
   "outputs": [],
   "source": [
    "def delete():\n",
    "    #出品一覧ページ\n",
    "    mypage=driver.find_element_by_class_name(\"mypage-nav-list\").find_elements_by_tag_name('a')[1].get_attribute(\"href\")\n",
    "    driver.get(mypage)\n",
    "    #出品個別ページ\n",
    "    driver.find_element_by_class_name('mypage-tab-container').find_elements_by_class_name('mypage-item-link')[0].click()\n",
    "    #削除ボタン\n",
    "    driver.find_element_by_css_selector('body > div > main > div.l-content > div.listing-item-change-box > button').click()\n",
    "    #削除確認ボタン\n",
    "    driver.find_element_by_css_selector('body > div > main > div.l-content > aside > div > div.clearfix > form > button').click()"
   ]
  },
  {
   "cell_type": "code",
   "execution_count": null,
   "metadata": {},
   "outputs": [],
   "source": [
    "driver = webdriver.Chrome()#指定の位置にwebdriverのpathを書いてください　例）/Users/ユーザー名/chromedriver\n",
    "time.sleep(5)\n",
    "login()\n",
    "time.sleep(5)\n",
    "delete()\n",
    "time.sleep(5)\n",
    "driver.close()"
   ]
  },
  {
   "cell_type": "code",
   "execution_count": null,
   "metadata": {},
   "outputs": [],
   "source": []
  },
  {
   "cell_type": "code",
   "execution_count": null,
   "metadata": {},
   "outputs": [],
   "source": []
  }
 ],
 "metadata": {
  "kernelspec": {
   "display_name": "Python 3",
   "language": "python",
   "name": "python3"
  },
  "language_info": {
   "codemirror_mode": {
    "name": "ipython",
    "version": 3
   },
   "file_extension": ".py",
   "mimetype": "text/x-python",
   "name": "python",
   "nbconvert_exporter": "python",
   "pygments_lexer": "ipython3",
   "version": "3.6.5"
  }
 },
 "nbformat": 4,
 "nbformat_minor": 2
}
