{
 "cells": [
  {
   "cell_type": "code",
   "execution_count": null,
   "metadata": {},
   "outputs": [],
   "source": [
    "import tweepy"
   ]
  },
  {
   "cell_type": "code",
   "execution_count": null,
   "metadata": {
    "scrolled": true
   },
   "outputs": [],
   "source": [
    "#xxxxxxxxxxxxxxxxxxxxxは各自取得したAPIをkeyを入れてください。\n",
    "CONSUMER_KEY = ''\n",
    "CONSUMER_SECRET = ''\n",
    "ACCESS_TOKEN = ''\n",
    "ACCESS_SECRET = ''\n",
    "\n",
    "# インスタンス作成\n",
    "auth = tweepy.OAuthHandler(CONSUMER_KEY, CONSUMER_SECRET)\n",
    "auth.set_access_token(ACCESS_TOKEN, ACCESS_SECRET)\n",
    "api = tweepy.API(auth)\n",
    "\n",
    "#検索\n",
    "search_results = api.search(q=\"twice\", count=10)#q:検索ワード、count:検索回数\n",
    "print(len(search_results))#見つけたツイート数\n",
    "\n",
    "for result in search_results:\n",
    "    tweet_id = result.id #Tweetのidを取得\n",
    "    user_id = result.user._json['id'] #ユーザーのidを取得\n",
    "\n",
    "    try:\n",
    "        print('a')\n",
    "        api.create_favorite(tweet_id) #ファボする\n",
    "        api.create_friendship(user_id) #フォローする\n",
    "\n",
    "    except Exception as e:\n",
    "        print(e)\n",
    " "
   ]
  }
 ],
 "metadata": {
  "kernelspec": {
   "display_name": "Python 3",
   "language": "python",
   "name": "python3"
  },
  "language_info": {
   "codemirror_mode": {
    "name": "ipython",
    "version": 3
   },
   "file_extension": ".py",
   "mimetype": "text/x-python",
   "name": "python",
   "nbconvert_exporter": "python",
   "pygments_lexer": "ipython3",
   "version": "3.6.5"
  }
 },
 "nbformat": 4,
 "nbformat_minor": 2
}
