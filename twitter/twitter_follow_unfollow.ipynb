{
 "cells": [
  {
   "cell_type": "code",
   "execution_count": 5,
   "metadata": {},
   "outputs": [],
   "source": [
    "# coding: utf-8\n",
    "import tweepy\n",
    "import time\n",
    "import tweepy"
   ]
  },
  {
   "cell_type": "code",
   "execution_count": 6,
   "metadata": {},
   "outputs": [],
   "source": [
    "def get_api():\n",
    "    #それぞれの値を入力\n",
    "    keys = dict(\n",
    "        screen_name = 'twice66702523',\n",
    "        consumer_key = 'YVX21u83nPhatHY2lNHQ1UrHL',\n",
    "        consumer_secret = 'QgqXgU1Us8ji98IjzHPiRbjP5lTGQ6gpWoBIHYc6Hx6m9Oeauz',\n",
    "        access_token =  '1087940081309110272-v1r9pInCAQPS7yhLSB3b2sQjIgIOuN',\n",
    "        access_token_secret = 'hUATsMOVKsyo3tTjvihFmwjUhcSmLmDOl4gOrv01eGC7v',\n",
    "    )\n",
    "\n",
    "    SCREEN_NAME = keys['screen_name']\n",
    "    CONSUMER_KEY = keys['consumer_key']\n",
    "    CONSUMER_SECRET = keys['consumer_secret']\n",
    "    ACCESS_TOKEN = keys['access_token']\n",
    "    ACCESS_TOKEN_SECRET = keys['access_token_secret']\n",
    "\n",
    "    auth = tweepy.OAuthHandler(CONSUMER_KEY, CONSUMER_SECRET)\n",
    "    auth.set_access_token(ACCESS_TOKEN, ACCESS_TOKEN_SECRET)\n",
    "    api = tweepy.API(auth)\n",
    "    return api, SCREEN_NAME\n",
    "\n",
    "def unfollow(api, followers, friends):\n",
    "    unfollow_cnt = 0\n",
    "    for f in friends:\n",
    "        if f not in followers:\n",
    "            if unfollow_cnt <= 100:#フォローを解除するアカウント数の最大値\n",
    "                api.destroy_friendship(f)\n",
    "                print(\"{0}のフォローを解除しました。\".format(api.get_user(f).screen_name))\n",
    "                time.sleep(2)\n",
    "                unfollow_cnt += 1\n",
    "            else:\n",
    "                print('一度に解除可能な人数に達したため処理を中断します。')\n",
    "                break\n",
    "    return unfollow_cnt\n",
    "\n",
    "def follow(keyword, a_cnt):\n",
    "\tfollow_cnt = 0\n",
    "\tsearch_results = api.search(q=keyword, count=a_cnt)# q:検索ワード count:追加フォロー数\n",
    "\tfor result in search_results:\n",
    "\t\tif follow_cnt <= a_cnt:\n",
    "\t\t\ttry:\n",
    "\t\t\t\tscreen_id = result.user._json[\"screen_name\"]\n",
    "\t\t\t\tapi.create_friendship(screen_id)\n",
    "\t\t\t\tprint(\"{0}をフォローしました。\" .format(screen_id))\n",
    "\t\t\t\ttime.sleep(2)\n",
    "\t\t\t\tfollow_cnt += 1\n",
    "\t\t\texcept tweepy.error.TweepError:\n",
    "\t\t\t\tprint(\"フォローが失敗しました。\")\n",
    "\treturn follow_cnt\n",
    "\n",
    "def yes_no_input(choice):\n",
    "    while True:\n",
    "        if choice in ['y', 'Y']:#yを入力した場合は処理を実行\n",
    "            return True\n",
    "        else:\n",
    "            return False"
   ]
  },
  {
   "cell_type": "code",
   "execution_count": 12,
   "metadata": {},
   "outputs": [
    {
     "ename": "SyntaxError",
     "evalue": "invalid syntax (<ipython-input-12-83bea7d57a2e>, line 3)",
     "output_type": "error",
     "traceback": [
      "\u001b[1;36m  File \u001b[1;32m\"<ipython-input-12-83bea7d57a2e>\"\u001b[1;36m, line \u001b[1;32m3\u001b[0m\n\u001b[1;33m    s.bind(163.221.124.123, 80)\u001b[0m\n\u001b[1;37m                     ^\u001b[0m\n\u001b[1;31mSyntaxError\u001b[0m\u001b[1;31m:\u001b[0m invalid syntax\n"
     ]
    }
   ],
   "source": [
    "if __name__ == \"__main__\":\n",
    "    s = socket.socket(socket.AF_INET, socket.SOCK_DGRAM)\n",
    "    s.bind(163.221.124.123, 80)\n",
    "    s.connect((\"www.twitter.com\",80))\n",
    "    \n",
    "    #u_cnt = 0\n",
    "    #f_cnt = 0\n",
    "    \n",
    "    api, SCREEN_NAME = get_api()\n",
    "    followers = api.followers_ids(SCREEN_NAME)#全てのフォロワーアカウントのscreen name\n",
    "    friends = api.friends_ids(SCREEN_NAME)#全てのフォローアカウントのscreen name\n",
    "    choice = input(\"フォロー解除を実行しますか? [y/N]: \").lower()#大文字でも受け付けるように\n",
    "    if yes_no_input(choice):\n",
    "        u_cnt = unfollow(api, followers, friends)\n",
    "    keyword = input(\"検索ワード：\")\n",
    "    a_count = input(\"追加フォロー数：\")\n",
    "    a_cnt = int(a_count)\n",
    "    choice = input(\"フォローを実行しますか? [y/N]: \").lower()#大文字でも受け付けるように\n",
    "    if yes_no_input(choice):\n",
    "        f_cnt = follow(keyword, a_cnt)\n",
    "    print('{}人をフォロー解除、{}人をフォローしました。'.format(u_cnt,f_cnt))\n",
    "    #input()"
   ]
  },
  {
   "cell_type": "code",
   "execution_count": null,
   "metadata": {},
   "outputs": [],
   "source": []
  },
  {
   "cell_type": "code",
   "execution_count": null,
   "metadata": {},
   "outputs": [],
   "source": []
  }
 ],
 "metadata": {
  "kernelspec": {
   "display_name": "Python 3",
   "language": "python",
   "name": "python3"
  },
  "language_info": {
   "codemirror_mode": {
    "name": "ipython",
    "version": 3
   },
   "file_extension": ".py",
   "mimetype": "text/x-python",
   "name": "python",
   "nbconvert_exporter": "python",
   "pygments_lexer": "ipython3",
   "version": "3.6.5"
  }
 },
 "nbformat": 4,
 "nbformat_minor": 2
}
